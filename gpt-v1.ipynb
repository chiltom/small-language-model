{
 "cells": [
  {
   "cell_type": "code",
   "execution_count": 100,
   "id": "13a7e59d-76cf-4d16-9e46-87357d03d609",
   "metadata": {},
   "outputs": [],
   "source": [
    "\"\"\" Package imports \"\"\"\n",
    "import random\n",
    "import mmap\n",
    "import pickle\n",
    "import torch\n",
    "import torch.nn as nn\n",
    "from torch.nn import functional as F"
   ]
  },
  {
   "cell_type": "code",
   "execution_count": 118,
   "id": "c0d0ac3d-6599-4964-8860-f50e6e078762",
   "metadata": {},
   "outputs": [],
   "source": [
    "\"\"\" Hyper-parameters \"\"\"\n",
    "device = 'mps' if torch.backends.mps.is_available() else 'cpu' # Device setting (GPU if available, CPU if not)\n",
    "batch_size = 64 # How many sequences we want running at the same time\n",
    "block_size = 128 # Sequence length\n",
    "max_iters = 300 # Number of training iterations\n",
    "learning_rate = 3e-4 # Learning rate (updated by the AdamW optimization algorithm)\n",
    "eval_iters = 100 # Number of evaluation iterations, reporting the loss\n",
    "n_embd = 384 # Number of total dimensions\n",
    "n_head = 8 # Number of heads running (in parallel)\n",
    "n_layer = 8 # Number of decoder blocks\n",
    "dropout = 0.2 # Dropout percentage of neurons"
   ]
  },
  {
   "cell_type": "code",
   "execution_count": 102,
   "id": "7c7d86bc-3c93-4f6d-9f2d-121e5b13d2d1",
   "metadata": {},
   "outputs": [
    {
     "name": "stdout",
     "output_type": "stream",
     "text": [
      "cuda\n"
     ]
    }
   ],
   "source": [
    "print(device)"
   ]
  },
  {
   "cell_type": "code",
   "execution_count": 103,
   "id": "39f05146-ec38-444f-b168-89bc140f4c84",
   "metadata": {},
   "outputs": [],
   "source": [
    "\"\"\" Text and vocabulary loading \"\"\"\n",
    "chars = \"\"\n",
    "with open('text_files/vocab.txt', 'r', encoding='utf-8') as f:\n",
    "    text = f.read()\n",
    "    chars = sorted(list(set(text)))\n",
    "    \n",
    "vocab_size = len(chars)"
   ]
  },
  {
   "cell_type": "code",
   "execution_count": 104,
   "id": "d6ab62af-b8c4-405f-8913-ca38bacd6966",
   "metadata": {},
   "outputs": [
    {
     "name": "stdout",
     "output_type": "stream",
     "text": [
      "32172\n"
     ]
    }
   ],
   "source": [
    "print(vocab_size)"
   ]
  },
  {
   "cell_type": "code",
   "execution_count": 105,
   "id": "571cb732-072c-4a07-a9b9-e45bf34193ef",
   "metadata": {},
   "outputs": [],
   "source": [
    "\"\"\" Encoding and decoding lambda definitions, initial text encoding \"\"\"\n",
    "string_to_int = { ch:i for i,ch in enumerate(chars) }\n",
    "int_to_string = { i:ch for i,ch in enumerate(chars) }\n",
    "\n",
    "encode = lambda s: [string_to_int[c] for c in s]\n",
    "decode = lambda l: ''.join([int_to_string[i] for i in l])"
   ]
  },
  {
   "cell_type": "code",
   "execution_count": 106,
   "id": "95f04765-8500-4eac-a9b2-a2495ea7f1d9",
   "metadata": {},
   "outputs": [],
   "source": [
    "\"\"\" Memory map for using small snippets of text from a single file of any size \"\"\"\n",
    "def get_random_chunk(split):\n",
    "    filename = \"text_files/train_split.txt\" if split == \"train\" else \"text_files/val_split.txt\"\n",
    "    with open(filename, 'rb') as f:\n",
    "        with mmap.mmap(f.fileno(), 0, access=mmap.ACCESS_READ) as mm:\n",
    "            # Determine the file size and a random position to start reading\n",
    "            file_size = len(mm)\n",
    "            start_pos = random.randint(0, (file_size) - block_size * batch_size)\n",
    "\n",
    "            # Seek to the random position and read the block of text\n",
    "            mm.seek(start_pos)\n",
    "            block = mm.read(block_size * batch_size - 1)\n",
    "\n",
    "            # Decode the block to a string, ignoring any invalid byte sequences\n",
    "            decoded_block = block.decode('utf-8', errors='ignore').replace('\\r', '')\n",
    "\n",
    "            # Train and test splits\n",
    "            data = torch.tensor(encode(decoded_block), dtype=torch.long)\n",
    "\n",
    "    return data"
   ]
  },
  {
   "cell_type": "code",
   "execution_count": 107,
   "id": "3cd0a5a5-1a0c-4b6a-9a38-90a644f08137",
   "metadata": {},
   "outputs": [],
   "source": [
    "\"\"\" Training and validation data split and associated procurement method \"\"\"\n",
    "def get_batch(split):\n",
    "    data = get_random_chunk(split)\n",
    "    ix = torch.randint(len(data) - block_size, (batch_size,))\n",
    "    x = torch.stack([data[i:i+block_size] for i in ix])\n",
    "    y = torch.stack([data[i+1:i+block_size+1] for i in ix])\n",
    "    x, y = x.to(device), y.to(device)\n",
    "    return x, y"
   ]
  },
  {
   "cell_type": "code",
   "execution_count": 108,
   "id": "e0b35508-ac29-40f9-9f18-0fed49e5e3b0",
   "metadata": {},
   "outputs": [],
   "source": [
    "\"\"\" Validation method to compute loss \"\"\"\n",
    "@torch.no_grad()\n",
    "def estimate_loss():\n",
    "    out = {}\n",
    "    model.eval()\n",
    "    for split in ['train', 'val']:\n",
    "        losses = torch.zeros(eval_iters)\n",
    "        for k in range(eval_iters):\n",
    "            X, Y = get_batch(split)\n",
    "            logits, loss = model(X, Y)\n",
    "            losses[k] = loss.item()\n",
    "        out[split] = losses.mean()\n",
    "    model.train()\n",
    "    return out"
   ]
  },
  {
   "cell_type": "code",
   "execution_count": 109,
   "id": "4256328a-e261-4912-a350-e626d77a22b6",
   "metadata": {},
   "outputs": [],
   "source": [
    "\"\"\" Single head definition  \"\"\"\n",
    "class Head(nn.Module):\n",
    "    # One head of self-attention, scaled dot-product attention\n",
    "    def __init__(self, head_size):\n",
    "        super().__init__()\n",
    "        self.key = nn.Linear(n_embd, head_size, bias=False)\n",
    "        self.query = nn.Linear(n_embd, head_size, bias=False)\n",
    "        self.value = nn.Linear(n_embd, head_size, bias=False)\n",
    "        self.register_buffer('tril', torch.tril(torch.ones(block_size, block_size))) # Registers the no-look ahead masking in the model state\n",
    "        self.dropout = nn.Dropout(dropout)\n",
    "\n",
    "    def forward(self, x):\n",
    "        B, T, C = x.shape # Input of size (batch, time-step, channels)\n",
    "        k = self.key(x) # (B, T, hs)\n",
    "        q = self.query(x) # (B, T, hs)\n",
    "        \n",
    "        # Compute attention scores (\"affinities\")\n",
    "        wei = q @ k.transpose(-2, -1) * k.shape[-1]**-0.5 # (B, T, hs) @ (B, hs, T) -> (B, T, T)\n",
    "        wei = wei.masked_fill(self.tril[:T, :T] == 0, float('-inf')) # (B, T, T), prevents look-head\n",
    "        wei = F.softmax(wei, dim=-1) # (B, T, T)\n",
    "        wei = self.dropout(wei)\n",
    "\n",
    "        # Perform the weighted aggregation of the values\n",
    "        v = self.value(x) # (B, T, hs)\n",
    "        out = wei @ v # (B, T, T) @ (B, T, hs) -> (B, T, hs)\n",
    "        return out # Output of size (batch, time-step, head size)"
   ]
  },
  {
   "cell_type": "code",
   "execution_count": 110,
   "id": "bce26c91-3139-49aa-8bd5-18a134ee683a",
   "metadata": {},
   "outputs": [],
   "source": [
    "\"\"\" Multi-Head Attention definition to run multiple heads and converge their output \"\"\"\n",
    "class MultiHeadAttention(nn.Module):\n",
    "    # Multiple heads of self-attention in parallel\n",
    "    def __init__(self, num_heads, head_size):\n",
    "        super().__init__()\n",
    "        self.heads = nn.ModuleList([Head(head_size) for _ in range(num_heads)]) # Allows for 4 heads to run in parallel within the ModuleList\n",
    "        self.proj = nn.Linear(head_size * num_heads, n_embd) # Projects the head_size * num_heads to n_embd, adding another learnable parameter with a weight and bias\n",
    "        self.dropout = nn.Dropout(dropout)\n",
    "\n",
    "    def forward(self, x):\n",
    "        out = torch.cat([h(x) for h in self.heads], dim=-1) # Concatenate each head together along their last dimension (B, T, C(F)) -> (B, T, [h1, h1, h1, h1, h2, h2, h2, h2, h3, h3, h3, h3])\n",
    "        out = self.dropout(self.proj(out)) # Drops out 20% of the network's neurons to prevent overfitting\n",
    "        return out"
   ]
  },
  {
   "cell_type": "code",
   "execution_count": 111,
   "id": "f0d8338c-0a78-4646-be85-33da40897f39",
   "metadata": {},
   "outputs": [],
   "source": [
    "\"\"\" Feed Forward definition for transformation \"\"\"\n",
    "class FeedForward(nn.Module):\n",
    "    # A simple linear layer followed by a non-linearity\n",
    "    def __init__(self, n_embd):\n",
    "        super().__init__()\n",
    "        self.net = nn.Sequential(\n",
    "            nn.Linear(n_embd, 4 * n_embd), \n",
    "            nn.ReLU(), # Non-linearity activation, changes all inputs below 0 to an output of 0 and leaves all positive values the same\n",
    "            nn.Linear(4 * n_embd, n_embd), # Ensures that output shape is (n_embd, n_embd) by aligning sizes for multiplication\n",
    "            nn.Dropout(dropout), # Drops out a 20% of the network's neurons to prevent overfitting\n",
    "        )\n",
    "\n",
    "    def forward(self, x):\n",
    "        return self.net(x)"
   ]
  },
  {
   "cell_type": "code",
   "execution_count": 112,
   "id": "ecd21e25-f2d5-4f69-918a-5627566138fc",
   "metadata": {},
   "outputs": [],
   "source": [
    "\"\"\" Decoder block definition \"\"\"\n",
    "class Block(nn.Module):\n",
    "    # Transformer block -> communication followed by computation\n",
    "    def __init__(self, n_embd, n_head): # n_embd: embedding dimension, n_head: the number of heads we'd like\n",
    "        super().__init__()\n",
    "        head_size = n_embd // n_head\n",
    "        self.sa = MultiHeadAttention(n_head, head_size) # Self attention\n",
    "        self.ffwd = FeedForward(n_embd)\n",
    "        self.ln1 = nn.LayerNorm(n_embd)\n",
    "        self.ln2 = nn.LayerNorm(n_embd)\n",
    "\n",
    "    def forward(self, x):\n",
    "        y = self.sa(x) # Self attention\n",
    "        x = self.ln1(x + y) # Add and normalize\n",
    "        y = self.ffwd(x) # Feed forward\n",
    "        x = self.ln2(x + y) # Add and normalize\n",
    "        return x"
   ]
  },
  {
   "cell_type": "code",
   "execution_count": 113,
   "id": "517af9b3-3ceb-494b-a4a4-c5cc21e2130e",
   "metadata": {},
   "outputs": [
    {
     "name": "stdout",
     "output_type": "stream",
     "text": [
      "Loading model parameters...\n",
      "Loaded successfully.\n"
     ]
    }
   ],
   "source": [
    "\"\"\" GPT Language Model definition \"\"\"\n",
    "class GPTLanguageModel(nn.Module):\n",
    "    def __init__(self, vocab_size):\n",
    "        super().__init__()\n",
    "        self.token_embedding_table = nn.Embedding(vocab_size, n_embd) # Embeddings embedding (lookup) table\n",
    "        self.positional_embedding_table = nn.Embedding(block_size, n_embd) # Positional encoding embedding (lookup) table\n",
    "        self.blocks = nn.Sequential(*[Block(n_embd, n_head=n_head) for _ in range (n_layer)]) # Creates 4 decoder layers that run synchronously, with each block depending on the completion and input of the previous block\n",
    "        self.ln_f = nn.LayerNorm(n_embd) # Final layer normalization\n",
    "        self.lm_head = nn.Linear(n_embd, vocab_size)\n",
    "        self.apply(self._init_weights)\n",
    "\n",
    "    def _init_weights(self, module): # Initializes weights around specific standard deviations\n",
    "        if isinstance(module, nn.Linear):\n",
    "            nn.init.normal_(module.weight, mean=0.0, std=0.02)\n",
    "            if module.bias is not None:\n",
    "                nn.init.zeros_(module.bias)\n",
    "        elif isinstance(module, nn.Embedding):\n",
    "            torch.nn.init.normal_(module.weight, mean=0.0, std=0.02)\n",
    "\n",
    "    def forward(self, index, targets=None):\n",
    "        B, T = index.shape\n",
    "\n",
    "        # idx and targets are both (B,T) tensors of integers\n",
    "        tok_emb = self.token_embedding_table(index) # (B, T, C)\n",
    "        pos_emb = self.positional_embedding_table(torch.arange(T, device=device)) # (T, C)\n",
    "        x = tok_emb + pos_emb # (B, T, C)\n",
    "        x = self.blocks(x) # (B, T, C)\n",
    "        x = self.ln_f(x) # (B, T, C)\n",
    "        logits = self.lm_head(x) # (B, T, vocab_size)\n",
    "        \n",
    "        if targets is None:\n",
    "            loss = None\n",
    "        else:\n",
    "            B, T, C = logits.shape\n",
    "            logits = logits.view(B*T, C)\n",
    "            targets = targets.view(B*T)\n",
    "            loss = F.cross_entropy(logits, targets)\n",
    "\n",
    "        return logits, loss\n",
    "\n",
    "    def generate(self, index, max_new_tokens):\n",
    "        # Index is (B, T) array of indices in the current context\n",
    "        for _ in range (max_new_tokens):\n",
    "            # Get the predictions\n",
    "            logits, loss = self.forward(index)\n",
    "            # Focus only on the last time step\n",
    "            logits = logits[:, -1, :] # becomes (B, C)\n",
    "            # Apply softmax to get probabilities\n",
    "            probs = F.softmax(logits, dim=-1) # (B, C)\n",
    "            # Sample from the distribution\n",
    "            index_next = torch.multinomial(probs, num_samples=1) # (B, 1)\n",
    "            # Append sampled index to the running sequence\n",
    "            index = torch.cat((index, index_next), dim=1) # (B, T+1)\n",
    "        return index\n",
    "\n",
    "model = GPTLanguageModel(vocab_size)\n",
    "\n",
    "print('Loading model parameters...')\n",
    "with open('model-01.pkl', 'rb') as f:\n",
    "    model = pickle.load(f)\n",
    "print('Loaded successfully.')\n",
    "\n",
    "m = model.to(device)"
   ]
  },
  {
   "cell_type": "code",
   "execution_count": 116,
   "id": "05878b96-be89-4602-99dd-88de855e0a63",
   "metadata": {},
   "outputs": [
    {
     "name": "stdout",
     "output_type": "stream",
     "text": [
      "Step: 0 | Train Loss: 1.5993 | Val Loss: 1.5615\n",
      "Step: 100 | Train Loss: 1.5465 | Val Loss: 1.5677\n",
      "Step: 200 | Train Loss: 1.6789 | Val Loss: 1.5363\n",
      "1.4633777141571045\n",
      "Model saved.\n"
     ]
    }
   ],
   "source": [
    "\"\"\" AdamW Optimizer and training\"\"\"\n",
    "optimizer = torch.optim.AdamW(model.parameters(), lr=learning_rate)\n",
    "\n",
    "for iter in range(max_iters):\n",
    "    if iter % eval_iters == 0:\n",
    "        losses = estimate_loss()\n",
    "        print(f'Step: {iter} | Train Loss: {losses['train']:.4f} | Val Loss: {losses['val']:.4f}')\n",
    "    \n",
    "    # Sample a batch of data\n",
    "    xb, yb = get_batch('train')\n",
    "\n",
    "    # Evaluate the loss\n",
    "    logits, loss = model.forward(xb, yb)\n",
    "    optimizer.zero_grad(set_to_none=True)\n",
    "    loss.backward()\n",
    "    optimizer.step()\n",
    "\n",
    "print(loss.item())\n",
    "\n",
    "with open('model-01.pkl', 'wb') as f:\n",
    "    pickle.dump(model, f) # Pickles (saves) the model and its learnable parameters\n",
    "print('Model saved.')"
   ]
  },
  {
   "cell_type": "code",
   "execution_count": null,
   "id": "b8308b7c-6b70-48c0-bef9-0cade9c876c3",
   "metadata": {},
   "outputs": [],
   "source": [
    "context = torch.zeros((1,1), dtype=torch.long, device=device)\n",
    "generated_chars = decode(m.generate(context, max_new_tokens=500)[0].tolist())\n",
    "print(generated_chars)"
   ]
  }
 ],
 "metadata": {
  "kernelspec": {
   "display_name": "cuda-gpt",
   "language": "python",
   "name": ".venv"
  },
  "language_info": {
   "codemirror_mode": {
    "name": "ipython",
    "version": 3
   },
   "file_extension": ".py",
   "mimetype": "text/x-python",
   "name": "python",
   "nbconvert_exporter": "python",
   "pygments_lexer": "ipython3",
   "version": "3.12.4"
  }
 },
 "nbformat": 4,
 "nbformat_minor": 5
}
