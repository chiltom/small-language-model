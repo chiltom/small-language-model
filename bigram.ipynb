{
 "cells": [
  {
   "cell_type": "code",
   "execution_count": 7,
   "metadata": {},
   "outputs": [
    {
     "name": "stdout",
     "output_type": "stream",
     "text": [
      "cuda\n"
     ]
    }
   ],
   "source": [
    "import torch\n",
    "import torch.nn as nn\n",
    "from torch.nn import functional as F\n",
    "\n",
    "device = 'mps' if torch.backends.mps.is_available() else 'cpu'\n",
    "\n",
    "block_size = 8\n",
    "batch_size = 4\n",
    "max_iters = 10000\n",
    "learning_rate = 3e-4\n",
    "eval_iters = 250\n",
    "\n",
    "print(device)"
   ]
  },
  {
   "cell_type": "code",
   "execution_count": 8,
   "metadata": {},
   "outputs": [
    {
     "name": "stdout",
     "output_type": "stream",
     "text": [
      "81\n"
     ]
    }
   ],
   "source": [
    "# Creates the sorted list of characters and vocabulary size\n",
    "with open('wizard_of_oz.txt', 'r', encoding='utf-8') as f:\n",
    "    text = f.read()\n",
    "chars = sorted(set(text))\n",
    "vocab_size = len(chars)\n",
    "\n",
    "print(vocab_size)"
   ]
  },
  {
   "cell_type": "code",
   "execution_count": 9,
   "metadata": {},
   "outputs": [
    {
     "name": "stdout",
     "output_type": "stream",
     "text": [
      "tensor([80, 28, 39,  ..., 67, 57,  0])\n"
     ]
    }
   ],
   "source": [
    "# Initialize dictionaries for characters and their associated tokens\n",
    "string_to_int = { ch:i for i,ch in enumerate(chars) }\n",
    "int_to_string = { i:ch for i,ch in enumerate(chars) }\n",
    "\n",
    "# Define lambda functions to convert characters to tokens and vice versa\n",
    "encode = lambda s : [string_to_int[c] for c in s]\n",
    "decode = lambda l : ''.join([int_to_string[i] for i in l])\n",
    "\n",
    "# Creates a Tensor of int-64s out of the tokenized characters\n",
    "data = torch.tensor(encode(text), dtype=torch.long)\n",
    "\n",
    "print(data)"
   ]
  },
  {
   "cell_type": "code",
   "execution_count": 11,
   "metadata": {},
   "outputs": [],
   "source": [
    "# Initializes the training data and validation data\n",
    "n = int(0.8*len(data))\n",
    "train_data = data[:n]\n",
    "val_data = data[n:]\n",
    "\n",
    "def get_batch(split):\n",
    "    data = train_data if split == 'train' else val_data\n",
    "    ix = torch.randint(len(data) - block_size, (batch_size,))\n",
    "    x = torch.stack([data[i:i+block_size] for i in ix])\n",
    "    y = torch.stack([data[i+1:i+block_size+1] for i in ix])\n",
    "    x, y = x.to(device), y.to(device)\n",
    "    return x, y"
   ]
  },
  {
   "cell_type": "code",
   "execution_count": 36,
   "metadata": {},
   "outputs": [],
   "source": [
    "@torch.no_grad()\n",
    "def estimate_loss():\n",
    "    out = {}\n",
    "    model.eval()\n",
    "    for split in ['train', 'val']:\n",
    "        losses = torch.zeros(eval_iters)\n",
    "        for k in range(eval_iters):\n",
    "            X, Y = get_batch(split)\n",
    "            logits, loss = model(X, Y)\n",
    "            losses[k] = loss.item()\n",
    "        out[split] = losses.mean()\n",
    "    model.train()\n",
    "    return out"
   ]
  },
  {
   "cell_type": "code",
   "execution_count": 12,
   "metadata": {},
   "outputs": [
    {
     "name": "stdout",
     "output_type": "stream",
     "text": [
      "\n",
      "iKczdM'ZVA8'LDSc\n",
      "m]b3kKlJ:w.Fbzvuph6yMzbEPyk)c)pkZ!zW\"Wy!nrx.\"IJ29yxYe)Z﻿Oq*Xt2:PbfSg:MJL:﻿3zm5x,(?g:BzwKZ5Mry[2:dI;Pp.-KGDu.IJ1tuM&?t]4Q\n",
      "\":ScAss_]qt]: &vIOqJL:ip:POL[HkCpF&3A]lLVfu)zH﻿LuOO_0m:qh:i3Wu9hr\n",
      "45BJ HjwaEbS 3'0bE,0]3zbHLT&7:(eTWr6\"6ASgzCxepwK9[OFJM9e!?tCq]5UB&g4Qk_51Y5xsaje& iB'7y!pudg5BzqhOa1wn80Wi42sD2P\"]e*\n",
      "asOv)4Q\n",
      "mfcDKNwrQkDR[xbEF\":TW3qhN xC2iB7!jegD?9zfLW(s z-8eI&;pCpHtX﻿a9[[s7HzV6L&dAavxOCdbJh5a*WO(K\"CT\"YN!g'HW7-'!A*EFToNJ_DJk]ODVeA)I.\"a&AhsR F0m﻿[Kg]Z3kBa7KRWkB6I&J1wXEF_m&&.s_0e\n"
     ]
    }
   ],
   "source": [
    "class BigramLanguageModel(nn.Module):\n",
    "    def __init__(self, vocab_size):\n",
    "        super().__init__()\n",
    "        self.token_embedding_table = nn.Embedding(vocab_size, vocab_size)\n",
    "\n",
    "    def forward(self, index, targets=None):\n",
    "        logits = self.token_embedding_table(index)\n",
    "\n",
    "        if targets is None:\n",
    "            loss = None\n",
    "        else:\n",
    "            B, T, C = logits.shape\n",
    "            logits = logits.view(B*T, C)\n",
    "            targets = targets.view(B*T)\n",
    "            loss = F.cross_entropy(logits, targets)\n",
    "\n",
    "        return logits, loss\n",
    "\n",
    "    def generate(self, index, max_new_tokens):\n",
    "        # index is (B, T) array of indices in the current context\n",
    "        for _ in range (max_new_tokens):\n",
    "            # get the predictions\n",
    "            logits, loss = self.forward(index)\n",
    "            # focus only on the last time step\n",
    "            logits = logits[:, -1, :] # becomes (B, C)\n",
    "            # apply softmax to get probabilities\n",
    "            probs = F.softmax(logits, dim=-1) # (B, C)\n",
    "            # sample from the distribution\n",
    "            index_next = torch.multinomial(probs, num_samples=1) # (B, 1)\n",
    "            # append sampled index to the running sequence\n",
    "            index = torch.cat((index, index_next), dim=1) # (B, T+1)\n",
    "        return index\n",
    "\n",
    "model = BigramLanguageModel(vocab_size)\n",
    "m = model.to(device)\n",
    "\n",
    "context = torch.zeros((1, 1), dtype=torch.long, device=device)\n",
    "generated_chars = decode(m.generate(context, max_new_tokens=500)[0].tolist())\n",
    "print(generated_chars)"
   ]
  },
  {
   "cell_type": "code",
   "execution_count": 43,
   "metadata": {},
   "outputs": [
    {
     "name": "stdout",
     "output_type": "stream",
     "text": [
      "Step: 0 | Train Loss: 2.6290 | Val Loss: 2.6892\n",
      "Step: 250 | Train Loss: 2.6453 | Val Loss: 2.6466\n",
      "Step: 500 | Train Loss: 2.6159 | Val Loss: 2.6742\n",
      "Step: 750 | Train Loss: 2.6384 | Val Loss: 2.6663\n",
      "Step: 1000 | Train Loss: 2.6063 | Val Loss: 2.6477\n",
      "Step: 1250 | Train Loss: 2.6198 | Val Loss: 2.6477\n",
      "Step: 1500 | Train Loss: 2.6239 | Val Loss: 2.6716\n",
      "Step: 1750 | Train Loss: 2.6048 | Val Loss: 2.6341\n",
      "Step: 2000 | Train Loss: 2.6238 | Val Loss: 2.6238\n",
      "Step: 2250 | Train Loss: 2.6003 | Val Loss: 2.6143\n",
      "Step: 2500 | Train Loss: 2.6124 | Val Loss: 2.6376\n",
      "Step: 2750 | Train Loss: 2.5919 | Val Loss: 2.6475\n",
      "Step: 3000 | Train Loss: 2.5808 | Val Loss: 2.6433\n",
      "Step: 3250 | Train Loss: 2.5825 | Val Loss: 2.6342\n",
      "Step: 3500 | Train Loss: 2.5823 | Val Loss: 2.6145\n",
      "Step: 3750 | Train Loss: 2.5686 | Val Loss: 2.5938\n",
      "Step: 4000 | Train Loss: 2.5831 | Val Loss: 2.5951\n",
      "Step: 4250 | Train Loss: 2.5379 | Val Loss: 2.5984\n",
      "Step: 4500 | Train Loss: 2.5738 | Val Loss: 2.5723\n",
      "Step: 4750 | Train Loss: 2.5576 | Val Loss: 2.6058\n",
      "Step: 5000 | Train Loss: 2.5545 | Val Loss: 2.6038\n",
      "Step: 5250 | Train Loss: 2.5551 | Val Loss: 2.5987\n",
      "Step: 5500 | Train Loss: 2.5549 | Val Loss: 2.6052\n",
      "Step: 5750 | Train Loss: 2.5498 | Val Loss: 2.5789\n",
      "Step: 6000 | Train Loss: 2.5342 | Val Loss: 2.5840\n",
      "Step: 6250 | Train Loss: 2.5176 | Val Loss: 2.5839\n",
      "Step: 6500 | Train Loss: 2.5591 | Val Loss: 2.5898\n",
      "Step: 6750 | Train Loss: 2.5439 | Val Loss: 2.5942\n",
      "Step: 7000 | Train Loss: 2.5388 | Val Loss: 2.6034\n",
      "Step: 7250 | Train Loss: 2.5237 | Val Loss: 2.5879\n",
      "Step: 7500 | Train Loss: 2.5442 | Val Loss: 2.5779\n",
      "Step: 7750 | Train Loss: 2.5414 | Val Loss: 2.5872\n",
      "Step: 8000 | Train Loss: 2.5444 | Val Loss: 2.5719\n",
      "Step: 8250 | Train Loss: 2.5041 | Val Loss: 2.5659\n",
      "Step: 8500 | Train Loss: 2.5437 | Val Loss: 2.5629\n",
      "Step: 8750 | Train Loss: 2.5060 | Val Loss: 2.5845\n",
      "Step: 9000 | Train Loss: 2.5188 | Val Loss: 2.5590\n",
      "Step: 9250 | Train Loss: 2.4956 | Val Loss: 2.5599\n",
      "Step: 9500 | Train Loss: 2.5066 | Val Loss: 2.5377\n",
      "Step: 9750 | Train Loss: 2.5097 | Val Loss: 2.5253\n",
      "2.6820826530456543\n"
     ]
    }
   ],
   "source": [
    "# Create a PyTorch optimizer\n",
    "optimizer = torch.optim.AdamW(model.parameters(), lr=learning_rate)\n",
    "\n",
    "for iter in range(max_iters):\n",
    "    if iter % eval_iters == 0:\n",
    "        losses = estimate_loss()\n",
    "        print(f'Step: {iter} | Train Loss: {losses['train']:.4f} | Val Loss: {losses['val']:.4f}')\n",
    "    \n",
    "    # sample a batch of data\n",
    "    xb, yb = get_batch('train')\n",
    "\n",
    "    # evaluate the loss\n",
    "    logits, loss = model.forward(xb, yb)\n",
    "    optimizer.zero_grad(set_to_none=True)\n",
    "    loss.backward()\n",
    "    optimizer.step()\n",
    "\n",
    "print(loss.item())"
   ]
  },
  {
   "cell_type": "code",
   "execution_count": 13,
   "metadata": {},
   "outputs": [
    {
     "name": "stdout",
     "output_type": "stream",
     "text": [
      "\n",
      "oH6p()jcJ1w,r\"gzb?lL&(x!7R55UMkssKQzC:﻿_o0!7L'7M.T\"1xRE&gi51FD!X﻿I8y;T\"z9\"0BaeAGD\n",
      "ZzU*!.\n",
      "tu8i*08wzseLzqq9p\n",
      "p,Pw\"!fi4EP4!\"zHW_y!2CEKcx3f3'c4Xh3fS75i(2j\"CzCTxdf(ugl﻿oZ2v]7﻿a'kI8BJeIfPGL4znp1bT!O!﻿4Q;pi3mh_8Be!]up,8k'eJ2&.*wRgBa5xYTQUYore*fL't5\n",
      "8i('xOCa&xOYLMl[S5x3(X;3PqAN!x6,Si(97WcUB_R66l19Ur:()FY2dJBYwW.﻿﻿JwCYy!akNpV6npE8t-p:RqhgQ5MxeI\n",
      "e[rQ(GDgFb2sy'w]BD;XyDUkvoS'xR2'H_07JLn*H-rXj2vJ7y!?u6xO\n",
      ";;vSKRtX7dAZA X9)j&x3fP7fS7XX8JHkvQbZpZ2c&;rprml*ob?x78hr &i()C'Kqht7\"L[1sW_Nas_PLbC 6)74p1V2Yy!._NKclh;2\n"
     ]
    }
   ],
   "source": [
    "context = torch.zeros((1,1), dtype=torch.long, device=device)\n",
    "generated_chars = decode(m.generate(context, max_new_tokens=500)[0].tolist())\n",
    "print(generated_chars)"
   ]
  },
  {
   "cell_type": "code",
   "execution_count": null,
   "metadata": {},
   "outputs": [],
   "source": []
  }
 ],
 "metadata": {
  "kernelspec": {
   "display_name": ".venv",
   "language": "python",
   "name": "python3"
  },
  "language_info": {
   "codemirror_mode": {
    "name": "ipython",
    "version": 3
   },
   "file_extension": ".py",
   "mimetype": "text/x-python",
   "name": "python",
   "nbconvert_exporter": "python",
   "pygments_lexer": "ipython3",
   "version": "3.12.4"
  }
 },
 "nbformat": 4,
 "nbformat_minor": 4
}
