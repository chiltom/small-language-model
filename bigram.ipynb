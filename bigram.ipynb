{
 "cells": [
  {
   "cell_type": "code",
   "execution_count": 1,
   "metadata": {},
   "outputs": [
    {
     "name": "stdout",
     "output_type": "stream",
     "text": [
      "cuda\n"
     ]
    }
   ],
   "source": [
    "import torch\n",
    "import torch.nn as nn\n",
    "from torch.nn import functional as F\n",
    "# Initialize device as \"mps\", or the GPU, if it's available; else, use CPU\n",
    "device: str = 'cuda' if torch.cuda.is_available() else 'cpu'\n",
    "print(device)\n",
    "# Initial block size\n",
    "block_size: int = 8\n",
    "# Initial batch size\n",
    "batch_size: int = 4\n",
    "max_iters = 10000\n",
    "learning_rate = 3e-4\n",
    "eval_iters = 250"
   ]
  },
  {
   "cell_type": "code",
   "execution_count": 25,
   "metadata": {},
   "outputs": [
    {
     "name": "stdout",
     "output_type": "stream",
     "text": [
      "['\\n', ' ', '!', '\"', '&', \"'\", '(', ')', '*', ',', '-', '.', '0', '1', '2', '3', '4', '5', '6', '7', '8', '9', ':', ';', '?', 'A', 'B', 'C', 'D', 'E', 'F', 'G', 'H', 'I', 'J', 'K', 'L', 'M', 'N', 'O', 'P', 'Q', 'R', 'S', 'T', 'U', 'V', 'W', 'X', 'Y', 'Z', '[', ']', '_', 'a', 'b', 'c', 'd', 'e', 'f', 'g', 'h', 'i', 'j', 'k', 'l', 'm', 'n', 'o', 'p', 'q', 'r', 's', 't', 'u', 'v', 'w', 'x', 'y', 'z', '\\ufeff']\n"
     ]
    }
   ],
   "source": [
    "# Creates the sorted list of characters and vocabular size\n",
    "with open('wizard_of_oz.txt', 'r', encoding='utf-8') as f:\n",
    "    text: str = f.read()\n",
    "chars: list[str] = sorted(set(text))\n",
    "print(chars)\n",
    "vocab_size: int = len(chars)"
   ]
  },
  {
   "cell_type": "code",
   "execution_count": 26,
   "metadata": {},
   "outputs": [],
   "source": [
    "# Initialize dictionaries for characters and their associated tokens\n",
    "string_to_int: dict[str, int] = { ch:i for i,ch in enumerate(chars) }\n",
    "int_to_string: dict[int, str] = { i:ch for i,ch in enumerate(chars) }\n",
    "\n",
    "# Define lambda functoins to convert characters to tokens and vice versa\n",
    "encode = lambda s : [string_to_int[c] for c in s]\n",
    "decode = lambda l : ''.join([int_to_string[i] for i in l])\n",
    "\n",
    "# Creates a Tensor of int-64s out of the tokenized characters\n",
    "data: torch.Tensor = torch.tensor(encode(text), dtype=torch.long)"
   ]
  },
  {
   "cell_type": "code",
   "execution_count": 31,
   "metadata": {},
   "outputs": [],
   "source": [
    "# Initializes the training data and validation data\n",
    "n: int = int(0.8*len(data))\n",
    "train_data: torch.Tensor = data[:n]\n",
    "val_data: torch.Tensor = data[n:]\n",
    "\n",
    "def get_batch(split: str) -> tuple[torch.Tensor, torch.Tensor]:\n",
    "    \"\"\"Gets a Tensor (batches of blocks) from the specified data set\n",
    "\n",
    "    This method grabs either the training or validation data set and creates\n",
    "    a Tensor from it with the block_size and batch_size values.\n",
    "\n",
    "    Args:\n",
    "        split (str): The train or val split\n",
    "\n",
    "    Returns:\n",
    "        tuple[torch.Tensor, torch.Tensor]: The inputs and their target parameters\n",
    "    \"\"\"\n",
    "    data: torch.Tensor = train_data if split == 'train' else val_data\n",
    "    ix: torch.Tensor = torch.randint(len(data) - block_size, (batch_size,))\n",
    "    x: torch.Tensor = torch.stack([data[i:i+block_size] for i in ix])\n",
    "    y: torch.Tensor = torch.stack([data[i+1:i+block_size+1] for i in ix])\n",
    "    x, y = x.to(device), y.to(device)\n",
    "    return x, y\n"
   ]
  },
  {
   "cell_type": "code",
   "execution_count": 36,
   "metadata": {},
   "outputs": [],
   "source": [
    "@torch.no_grad()\n",
    "def estimate_loss():\n",
    "    out = {}\n",
    "    model.eval()\n",
    "    for split in ['train', 'val']:\n",
    "        losses = torch.zeros(eval_iters)\n",
    "        for k in range(eval_iters):\n",
    "            X, Y = get_batch(split)\n",
    "            logits, loss = model(X, Y)\n",
    "            losses[k] = loss.item()\n",
    "        out[split] = losses.mean()\n",
    "    model.train()\n",
    "    return out"
   ]
  },
  {
   "cell_type": "code",
   "execution_count": 37,
   "metadata": {},
   "outputs": [
    {
     "name": "stdout",
     "output_type": "stream",
     "text": [
      "\n",
      "d\n",
      "\"*U\"LDqEf_M\n",
      "giOI(T]VB'eH)zl?pIRW!Fpwa,P﻿2(,F5g5vFeF[X2Cv&C5RD0mx﻿PnDFn)k?UdrGYRUFm.mj:g0_RShT88MIH]aNH!?ZWOqe)]sH)j9A)pivrj\n",
      "X;Svv*Z\n",
      "Rb?x]td&r16720Hg CPT\";eFUSAVK*DD, e_Q(,F;JbbxNL0\n",
      "k3Ug&TDX2*b\n",
      "IIzlF;w'ywxr﻿f?iOGiuS\n",
      ")Zumr:NPv?U3zU7)L(y5:p9\n",
      "lVKHWV*!Qw_[_e_rD1[W_C 51)dNuWbX﻿:[Rn\n",
      "qzkCxy6]L]gF﻿4czQUX:i.(!mfr9J2eF[sk5q[Wv: er)sKZ:6P[_vF\n",
      "0shKR4X9TiWv8&unvX2l uY.]YN-H)p7gArpI0aqlxZ'js8eeFg8vAPnxFblTiiiOeAUXeV_BTzxjg '*Nu)1?(kjdBeB&jfC0Fbb\n",
      "0WIBeMdHT._We!P[_YR'T.AmrDJILwfE[qK4o2 ?!sZ1PeY6.\n",
      "7H5fTbGH﻿mOmz\n"
     ]
    }
   ],
   "source": [
    "class BigramLanguageModel(nn.Module):\n",
    "    \"\"\"The Bigram Language Model\n",
    "\n",
    "    Extends:\n",
    "        nn.Module (class): The nn machine learning subclass provided by PyTorch\n",
    "\n",
    "    Methods:\n",
    "        __init__(vocab_size: int) -> None\n",
    "        forward(index, targets)\n",
    "    \"\"\"\n",
    "    def __init__(self, vocab_size: int) -> None:\n",
    "        super().__init__()\n",
    "        self.token_embedding_table: nn.Embedding = nn.Embedding(vocab_size, vocab_size)\n",
    "\n",
    "    def forward(self, index, targets=None):\n",
    "        logits = self.token_embedding_table(index)\n",
    "\n",
    "        if targets is None:\n",
    "            loss = None\n",
    "        else:\n",
    "            B, T, C = logits.shape\n",
    "            logits = logits.view(B*T, C)\n",
    "            targets = targets.view(B*T)\n",
    "            loss = F.cross_entropy(logits, targets)\n",
    "\n",
    "        return logits, loss\n",
    "\n",
    "    def generate(self, index, max_new_tokens):\n",
    "        # index is (B, T) array of indices in the current context\n",
    "        for _ in range (max_new_tokens):\n",
    "            # get the predictions\n",
    "            logits, loss = self.forward(index)\n",
    "            # focus only on the last time step\n",
    "            logits = logits[:, -1, :] # becomes (B, C)\n",
    "            # apply softmax to get probabilities\n",
    "            probs = F.softmax(logits, dim=-1) # (B, C)\n",
    "            # sample from the distribution\n",
    "            index_next = torch.multinomial(probs, num_samples=1) # (B, 1)\n",
    "            # append sampled index to the running sequence\n",
    "            index = torch.cat((index, index_next), dim=1) # (B, T+1)\n",
    "        return index\n",
    "\n",
    "model = BigramLanguageModel(vocab_size)\n",
    "m = model.to(device)\n",
    "\n",
    "context = torch.zeros((1, 1), dtype=torch.long, device=device)\n",
    "generated_chars = decode(m.generate(context, max_new_tokens=500)[0].tolist())\n",
    "print(generated_chars)"
   ]
  },
  {
   "cell_type": "code",
   "execution_count": 43,
   "metadata": {},
   "outputs": [
    {
     "name": "stdout",
     "output_type": "stream",
     "text": [
      "Step: 0 | Train Loss: 2.6290 | Val Loss: 2.6892\n",
      "Step: 250 | Train Loss: 2.6453 | Val Loss: 2.6466\n",
      "Step: 500 | Train Loss: 2.6159 | Val Loss: 2.6742\n",
      "Step: 750 | Train Loss: 2.6384 | Val Loss: 2.6663\n",
      "Step: 1000 | Train Loss: 2.6063 | Val Loss: 2.6477\n",
      "Step: 1250 | Train Loss: 2.6198 | Val Loss: 2.6477\n",
      "Step: 1500 | Train Loss: 2.6239 | Val Loss: 2.6716\n",
      "Step: 1750 | Train Loss: 2.6048 | Val Loss: 2.6341\n",
      "Step: 2000 | Train Loss: 2.6238 | Val Loss: 2.6238\n",
      "Step: 2250 | Train Loss: 2.6003 | Val Loss: 2.6143\n",
      "Step: 2500 | Train Loss: 2.6124 | Val Loss: 2.6376\n",
      "Step: 2750 | Train Loss: 2.5919 | Val Loss: 2.6475\n",
      "Step: 3000 | Train Loss: 2.5808 | Val Loss: 2.6433\n",
      "Step: 3250 | Train Loss: 2.5825 | Val Loss: 2.6342\n",
      "Step: 3500 | Train Loss: 2.5823 | Val Loss: 2.6145\n",
      "Step: 3750 | Train Loss: 2.5686 | Val Loss: 2.5938\n",
      "Step: 4000 | Train Loss: 2.5831 | Val Loss: 2.5951\n",
      "Step: 4250 | Train Loss: 2.5379 | Val Loss: 2.5984\n",
      "Step: 4500 | Train Loss: 2.5738 | Val Loss: 2.5723\n",
      "Step: 4750 | Train Loss: 2.5576 | Val Loss: 2.6058\n",
      "Step: 5000 | Train Loss: 2.5545 | Val Loss: 2.6038\n",
      "Step: 5250 | Train Loss: 2.5551 | Val Loss: 2.5987\n",
      "Step: 5500 | Train Loss: 2.5549 | Val Loss: 2.6052\n",
      "Step: 5750 | Train Loss: 2.5498 | Val Loss: 2.5789\n",
      "Step: 6000 | Train Loss: 2.5342 | Val Loss: 2.5840\n",
      "Step: 6250 | Train Loss: 2.5176 | Val Loss: 2.5839\n",
      "Step: 6500 | Train Loss: 2.5591 | Val Loss: 2.5898\n",
      "Step: 6750 | Train Loss: 2.5439 | Val Loss: 2.5942\n",
      "Step: 7000 | Train Loss: 2.5388 | Val Loss: 2.6034\n",
      "Step: 7250 | Train Loss: 2.5237 | Val Loss: 2.5879\n",
      "Step: 7500 | Train Loss: 2.5442 | Val Loss: 2.5779\n",
      "Step: 7750 | Train Loss: 2.5414 | Val Loss: 2.5872\n",
      "Step: 8000 | Train Loss: 2.5444 | Val Loss: 2.5719\n",
      "Step: 8250 | Train Loss: 2.5041 | Val Loss: 2.5659\n",
      "Step: 8500 | Train Loss: 2.5437 | Val Loss: 2.5629\n",
      "Step: 8750 | Train Loss: 2.5060 | Val Loss: 2.5845\n",
      "Step: 9000 | Train Loss: 2.5188 | Val Loss: 2.5590\n",
      "Step: 9250 | Train Loss: 2.4956 | Val Loss: 2.5599\n",
      "Step: 9500 | Train Loss: 2.5066 | Val Loss: 2.5377\n",
      "Step: 9750 | Train Loss: 2.5097 | Val Loss: 2.5253\n",
      "2.6820826530456543\n"
     ]
    }
   ],
   "source": [
    "# Create a PyTorch optimizer\n",
    "optimizer = torch.optim.AdamW(model.parameters(), lr=learning_rate)\n",
    "\n",
    "for iter in range(max_iters):\n",
    "    if iter % eval_iters == 0:\n",
    "        losses = estimate_loss()\n",
    "        print(f'Step: {iter} | Train Loss: {losses['train']:.4f} | Val Loss: {losses['val']:.4f}')\n",
    "    \n",
    "    # sample a batch of data\n",
    "    xb, yb = get_batch('train')\n",
    "\n",
    "    # evaluate the loss\n",
    "    logits, loss = model.forward(xb, yb)\n",
    "    optimizer.zero_grad(set_to_none=True)\n",
    "    loss.backward()\n",
    "    optimizer.step()\n",
    "\n",
    "print(loss.item())"
   ]
  },
  {
   "cell_type": "code",
   "execution_count": 34,
   "metadata": {},
   "outputs": [
    {
     "name": "stdout",
     "output_type": "stream",
     "text": [
      "\n",
      "\"BDI'P1\n",
      "ZesNd mBfbfyEd;Z5Y0j!?W49(d  trd﻿\n",
      "vh!:imit5S5zeKed;y'P?:t4H]S,w_caghete'&a fOjB1d.NK9Y)Tbedidl;.) ug. fozthlTdd fi&DDYbe.\n",
      "Eoqwd,Ces5hZZ1fy1WLYurdgvegBIn8qkpDSn[UO!:Q*8.\n",
      "&Jck-. XVfF2;;oO,&CAWki]K5J m&64r_EmU\"to5_ZZCK; fGNl. bVuZ2N4HrgP?Ogxv(\"X7E*1iv88z?:z2,\"?v﻿ajuenB1hyrW8n]P[NG; Dd.?1 TbA\n",
      "T_uz7qvonQvet?mid,\n",
      "U﻿(Vnd C_tr l[L3HRKNQEyt-V﻿&\n",
      "\"2C,b6O[xDDw\"W];gjWW7x6CL g﻿Q'DqW)ia.)an-Gitlz8G4scY\n",
      "\n",
      "Di'Ljune!6'duit pC(1piP\n",
      "v!JU-V Nx,J6]gt7tXor0Ny\n",
      "piPl.A.&:taj!r,[( d::\n",
      "\n",
      "chevZI612CA:F:I9)Wuid'S'nheep\n"
     ]
    }
   ],
   "source": [
    "context = torch.zeros((1,1), dtype=torch.long, device=device)\n",
    "generated_chars = decode(m.generate(context, max_new_tokens=500)[0].tolist())\n",
    "print(generated_chars)"
   ]
  },
  {
   "cell_type": "code",
   "execution_count": null,
   "metadata": {},
   "outputs": [],
   "source": []
  }
 ],
 "metadata": {
  "kernelspec": {
   "display_name": "cuda-gpt",
   "language": "python",
   "name": ".venv"
  },
  "language_info": {
   "codemirror_mode": {
    "name": "ipython",
    "version": 3
   },
   "file_extension": ".py",
   "mimetype": "text/x-python",
   "name": "python",
   "nbconvert_exporter": "python",
   "pygments_lexer": "ipython3",
   "version": "3.12.4"
  }
 },
 "nbformat": 4,
 "nbformat_minor": 4
}
