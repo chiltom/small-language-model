{
 "cells": [
  {
   "cell_type": "code",
   "execution_count": 44,
   "metadata": {},
   "outputs": [
    {
     "name": "stdout",
     "output_type": "stream",
     "text": [
      "mps\n"
     ]
    }
   ],
   "source": [
    "import torch\n",
    "import torch.nn as nn\n",
    "from torch.nn import functional as F\n",
    "# Initialize device as \"mps\", or the GPU, if it's available; else, use CPU\n",
    "device: str = 'mps' if torch.backends.mps.is_available() else 'cpu'\n",
    "print(device)\n",
    "# Initial block size\n",
    "block_size: int = 8\n",
    "# Initial batch size\n",
    "batch_size: int = 4"
   ]
  },
  {
   "cell_type": "code",
   "execution_count": 45,
   "metadata": {},
   "outputs": [
    {
     "name": "stdout",
     "output_type": "stream",
     "text": [
      "['\\n', ' ', '!', '\"', '&', \"'\", '(', ')', '*', ',', '-', '.', '0', '1', '2', '3', '4', '5', '6', '7', '8', '9', ':', ';', '?', 'A', 'B', 'C', 'D', 'E', 'F', 'G', 'H', 'I', 'J', 'K', 'L', 'M', 'N', 'O', 'P', 'Q', 'R', 'S', 'T', 'U', 'V', 'W', 'X', 'Y', 'Z', '[', ']', '_', 'a', 'b', 'c', 'd', 'e', 'f', 'g', 'h', 'i', 'j', 'k', 'l', 'm', 'n', 'o', 'p', 'q', 'r', 's', 't', 'u', 'v', 'w', 'x', 'y', 'z', '\\ufeff']\n"
     ]
    }
   ],
   "source": [
    "# Creates the sorted list of characters and vocabular size\n",
    "with open('wizard_of_oz.txt', 'r', encoding='utf-8') as f:\n",
    "    text: str = f.read()\n",
    "chars: list[str] = sorted(set(text))\n",
    "print(chars)\n",
    "vocab_size: int = len(chars)"
   ]
  },
  {
   "cell_type": "code",
   "execution_count": 46,
   "metadata": {},
   "outputs": [],
   "source": [
    "# Initialize dictionaries for characters and their associated tokens\n",
    "string_to_int: dict[str, int] = { ch:i for i,ch in enumerate(chars) }\n",
    "int_to_string: dict[int, str] = { i:ch for i,ch in enumerate(chars) }\n",
    "\n",
    "# Define lambda functoins to convert characters to tokens and vice versa\n",
    "encode = lambda s : [string_to_int[c] for c in s]\n",
    "decode = lambda l : ''.join([int_to_string[i] for i in l])\n",
    "\n",
    "# Creates a Tensor of int-64s out of the tokenized characters\n",
    "data: torch.Tensor = torch.tensor(encode(text), dtype=torch.long)"
   ]
  },
  {
   "cell_type": "code",
   "execution_count": 48,
   "metadata": {},
   "outputs": [
    {
     "name": "stdout",
     "output_type": "stream",
     "text": [
      "tensor([149786,  37855, 127784, 137009])\n",
      "inputs:\n",
      "tensor([[54, 76, 62, 67, 60,  1, 55, 54],\n",
      "        [72, 74, 71, 57,  1, 56, 71, 58],\n",
      "        [72, 73, 71, 74, 56, 64,  1, 62],\n",
      "        [66, 58,  1, 68, 59,  1, 73, 61]], device='mps:0')\n",
      "targets:\n",
      "tensor([[76, 62, 67, 60,  1, 55, 54],\n",
      "        [74, 71, 57,  1, 56, 71, 58],\n",
      "        [73, 71, 74, 56, 64,  1, 62],\n",
      "        [58,  1, 68, 59,  1, 73, 61]], device='mps:0')\n"
     ]
    }
   ],
   "source": [
    "# Initializes the training data and validation data\n",
    "n: int = int(0.8*len(data))\n",
    "train_data: torch.Tensor = data[:n]\n",
    "val_data: torch.Tensor = data[n:]\n",
    "\n",
    "def get_batch(split: str) -> tuple[torch.Tensor, torch.Tensor]:\n",
    "    \"\"\"Gets a Tensor (batches of blocks) from the specified data set\n",
    "\n",
    "    This method grabs either the training or validation data set and creates\n",
    "    a Tensor from it with the block_size and batch_size values.\n",
    "\n",
    "    Args:\n",
    "        split (str): The train or val split\n",
    "\n",
    "    Returns:\n",
    "        tuple[torch.Tensor, torch.Tensor]: The inputs and their target parameters\n",
    "    \"\"\"\n",
    "    data: torch.Tensor = train_data if split == 'train' else val_data\n",
    "    ix: torch.Tensor = torch.randint(len(data) - block_size, (batch_size,))\n",
    "    print(ix)\n",
    "    x: torch.Tensor = torch.stack([data[i:i+block_size] for i in ix])\n",
    "    y: torch.Tensor = torch.stack([data[i+1:i+block_size] for i in ix])\n",
    "    x, y = x.to(device), y.to(device)\n",
    "    return x, y\n",
    "\n",
    "x, y = get_batch('train')\n",
    "print('inputs:')\n",
    "print(x)\n",
    "print('targets:')\n",
    "print(y)"
   ]
  },
  {
   "cell_type": "code",
   "execution_count": null,
   "metadata": {},
   "outputs": [],
   "source": [
    "class BigramLanguageModel(nn.Module):\n",
    "    \"\"\"The Bigram Language Model\n",
    "\n",
    "    Extends:\n",
    "        nn.Module (class): The nn machine learning subclass provided by PyTorch\n",
    "\n",
    "    Methods:\n",
    "        __init__(vocab_size: int) -> None\n",
    "        forward(index, targets)\n",
    "    \"\"\"\n",
    "    def __init__(self, vocab_size: int) -> None:\n",
    "        super().__init__()\n",
    "        self.token_embeddings_table: nn.Embedding = nn.Embedding(vocab_size, vocab_size)\n",
    "\n",
    "    def forward(self, index, targets=None):\n",
    "        logits = self.token_embedding_table(index)\n",
    "\n",
    "        if targets is None:\n",
    "            loss = None\n",
    "        else:\n",
    "            B, T, C = logits.shape\n",
    "            logits = logits.view(B*T, C)\n",
    "            targets = targets.view(B*T)\n",
    "            loss = F.cross_entropy(logits, targets)\n",
    "\n",
    "        return logits, loss\n",
    "\n",
    "    def generate(self, index, max_new_tokens):\n",
    "        # index is (B, T) array of indices in the current context\n",
    "        for _ in range (max_new_tokens):\n",
    "            # get the predictions\n",
    "            logits, loss = self.forward(index)\n",
    "            # focus only on the last time step\n",
    "            logits = logits[:, -1, :] # becomes (B, C)\n",
    "            # apply softmax to get probabilities\n",
    "            probs = F.softmax(logits, dim=-1) # (B, C)\n",
    "            # sample from the distribution\n",
    "            index_next = torch.multinomial(probs, num_samples=1) # (B, 1)\n",
    "            # append sampled index to the running sequence\n",
    "            index = torch.cat((index, index_next), dim=1) # (B, T+1)\n",
    "        return index\n",
    "\n",
    "model = BigramLanguageModel(vocab_size)\n",
    "m = model.to(device)\n",
    "\n",
    "context = torch.zeros((1, 1), dtype=torch.long, device=device)\n",
    "generated_chars = decode(m.generate(context, max_new_tokens=500)[0].tolist())\n",
    "print(generated_chars)"
   ]
  }
 ],
 "metadata": {
  "kernelspec": {
   "display_name": "small-language-model",
   "language": "python",
   "name": ".venv"
  },
  "language_info": {
   "codemirror_mode": {
    "name": "ipython",
    "version": 3
   },
   "file_extension": ".py",
   "mimetype": "text/x-python",
   "name": "python",
   "nbconvert_exporter": "python",
   "pygments_lexer": "ipython3",
   "version": "3.12.2"
  }
 },
 "nbformat": 4,
 "nbformat_minor": 4
}
